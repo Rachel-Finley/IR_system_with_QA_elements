{
 "cells": [
  {
   "cell_type": "markdown",
   "id": "7dae623c-723f-4d03-997a-f2704adc35ae",
   "metadata": {},
   "source": [
    "# Made in collaboration with Chu Fang, Xiangdi Lin, Rachel Finley, and Dawid Cichoki"
   ]
  },
  {
   "cell_type": "code",
   "execution_count": 1,
   "id": "52be1246-fb36-4bd7-bc2b-0975724ae729",
   "metadata": {},
   "outputs": [],
   "source": [
    "from transformers import BertConfig, BertTokenizer, BertForMaskedLM\n",
    "import json\n",
    "import os\n",
    "import torch\n",
    "from tqdm import tqdm\n",
    "import random\n",
    "import numpy as np\n",
    "from tokenizers import Tokenizer\n",
    "from torch.optim.lr_scheduler import LinearLR"
   ]
  },
  {
   "cell_type": "code",
   "execution_count": 11,
   "id": "67f5b05e-e3d9-4539-9f32-32fc97677254",
   "metadata": {},
   "outputs": [],
   "source": [
    "def save_json(json_file, dst, sub_folder = None):\n",
    "    if sub_folder:\n",
    "        os.makedirs(subfolder, exist_ok = True)\n",
    "        dst = subfolder + dst\n",
    "    with open(dst, 'w', encoding = 'utf-8') as file:\n",
    "        file.write(json.dumps(json_file))\n",
    "\n",
    "def load_json(src):\n",
    "    with open(src, encoding= 'utf-8') as file:\n",
    "        return json.load(file)\n",
    "\n",
    "def entities_to_bio2_tags(questions, bio_tag_mapping = {'Inside': 2, 'Beginning': 1}):\n",
    "    for question_id, question_dict in enumerate(questions):\n",
    "        entities = [x.lower() for x in question_dict['entities'].values() if x !='']\n",
    "        split_question = question_dict['question'].lower().split()\n",
    "        bio_tags = [0] * len(split_question)\n",
    "        for entity in entities:\n",
    "            entity_chunks = entity.split()\n",
    "            for idx, chunk in enumerate(split_question):\n",
    "                if entity_chunks[0] in chunk:\n",
    "                    bio_tags[idx] = bio_tag_mapping['Beginning']\n",
    "                    for idy, entity_chunk in enumerate(entity_chunks[1:]):\n",
    "                        if idx + idy + 1 < len(bio_tags):\n",
    "                            bio_tags[idx + idy + 1] = bio_tag_mapping['Inside']\n",
    "                    break\n",
    "        questions[question_id]['bio_tags'] = bio_tags"
   ]
  },
  {
   "cell_type": "code",
   "execution_count": 12,
   "id": "1701eb84-3f42-4f90-ba84-b82dbe734dc8",
   "metadata": {},
   "outputs": [],
   "source": [
    "from transformers import BertConfig"
   ]
  },
  {
   "cell_type": "code",
   "execution_count": 13,
   "id": "918d121a-30b3-4763-91a3-e44d4dc2b06a",
   "metadata": {},
   "outputs": [],
   "source": [
    "tokenizer = BertTokenizer.from_pretrained(\"bert-base-uncased\")"
   ]
  },
  {
   "cell_type": "code",
   "execution_count": 14,
   "id": "73a0119c-d6de-4003-95f9-5a7cfb9fc65a",
   "metadata": {},
   "outputs": [],
   "source": [
    "raw_data = load_json(\"new_3000_edit.json\")"
   ]
  },
  {
   "cell_type": "code",
   "execution_count": 15,
   "id": "173dfa45-5bba-41d3-ba4c-fbd35d47441c",
   "metadata": {},
   "outputs": [
    {
     "data": {
      "text/plain": [
       "{'id': 1,\n",
       " 'uid': 'q-dev-s3q44053',\n",
       " 'question': 'Over How Many Laps Is The Indianapolis 500 Contested',\n",
       " 'entities': {'entity_1': 'The Indianapolis 500',\n",
       "  'entity_2': '',\n",
       "  'entity_3': ''}}"
      ]
     },
     "execution_count": 15,
     "metadata": {},
     "output_type": "execute_result"
    }
   ],
   "source": [
    "raw_data[0]"
   ]
  },
  {
   "cell_type": "code",
   "execution_count": 16,
   "id": "90729744-652b-4b8d-9941-bca1026bc769",
   "metadata": {},
   "outputs": [],
   "source": [
    "question = raw_data[0]"
   ]
  },
  {
   "cell_type": "code",
   "execution_count": 17,
   "id": "55543cea-bc7d-4fb6-a4fe-3bfbcd2d49af",
   "metadata": {},
   "outputs": [
    {
     "data": {
      "text/plain": [
       "['the indianapolis 500']"
      ]
     },
     "execution_count": 17,
     "metadata": {},
     "output_type": "execute_result"
    }
   ],
   "source": [
    "[x.lower() for x in question['entities'].values() if x !='']"
   ]
  },
  {
   "cell_type": "code",
   "execution_count": 18,
   "id": "f01f2aff-1e93-4220-bc6b-b9582c8c111c",
   "metadata": {},
   "outputs": [
    {
     "data": {
      "text/plain": [
       "['over',\n",
       " 'how',\n",
       " 'many',\n",
       " 'laps',\n",
       " 'is',\n",
       " 'the',\n",
       " 'indianapolis',\n",
       " '500',\n",
       " 'contested']"
      ]
     },
     "execution_count": 18,
     "metadata": {},
     "output_type": "execute_result"
    }
   ],
   "source": [
    "question['question'].lower().split()"
   ]
  },
  {
   "cell_type": "code",
   "execution_count": 19,
   "id": "9c355f88-3368-499f-9eba-5066dbdbf56f",
   "metadata": {},
   "outputs": [],
   "source": [
    "entities_to_bio2_tags(raw_data)"
   ]
  },
  {
   "cell_type": "code",
   "execution_count": 20,
   "id": "0aa864f4-1e70-473b-899b-a26bbea5835a",
   "metadata": {},
   "outputs": [
    {
     "data": {
      "text/plain": [
       "{'id': 2996,\n",
       " 'uid': 's-train-56dceb899a695914005b9476',\n",
       " 'question': 'Who took control of the company during the transition from Youlou to Debat?',\n",
       " 'entities': {'entity_1': 'Youlou', 'entity_2': 'Debat', 'entity_3': ''},\n",
       " 'bio_tags': [0, 0, 0, 0, 0, 0, 0, 0, 0, 0, 1, 0, 1]}"
      ]
     },
     "execution_count": 20,
     "metadata": {},
     "output_type": "execute_result"
    }
   ],
   "source": [
    "raw_data[2995]"
   ]
  },
  {
   "cell_type": "code",
   "execution_count": 35,
   "id": "7fc97204-c0f2-4caf-9e75-9a1188e95a7f",
   "metadata": {},
   "outputs": [],
   "source": [
    "save_json(raw_data, 'questions_filled_filtered_tagged_2.json')"
   ]
  },
  {
   "cell_type": "code",
   "execution_count": 36,
   "id": "8da75510-d184-4200-9d8d-cd9f2439c358",
   "metadata": {},
   "outputs": [],
   "source": [
    "import pandas as pd\n"
   ]
  },
  {
   "cell_type": "code",
   "execution_count": 37,
   "id": "49ac2b37-21bb-41c4-8701-03d8530c7043",
   "metadata": {},
   "outputs": [],
   "source": [
    "df = pd.read_json(\"questions_filled_filtered_tagged_2.json\", encoding = 'utf-8')"
   ]
  },
  {
   "cell_type": "code",
   "execution_count": 38,
   "id": "156b6c43-d722-41ea-8146-880fd2fb75ae",
   "metadata": {},
   "outputs": [
    {
     "data": {
      "text/html": [
       "<div>\n",
       "<style scoped>\n",
       "    .dataframe tbody tr th:only-of-type {\n",
       "        vertical-align: middle;\n",
       "    }\n",
       "\n",
       "    .dataframe tbody tr th {\n",
       "        vertical-align: top;\n",
       "    }\n",
       "\n",
       "    .dataframe thead th {\n",
       "        text-align: right;\n",
       "    }\n",
       "</style>\n",
       "<table border=\"1\" class=\"dataframe\">\n",
       "  <thead>\n",
       "    <tr style=\"text-align: right;\">\n",
       "      <th></th>\n",
       "      <th>id</th>\n",
       "      <th>uid</th>\n",
       "      <th>question</th>\n",
       "      <th>entities</th>\n",
       "      <th>bio_tags</th>\n",
       "    </tr>\n",
       "  </thead>\n",
       "  <tbody>\n",
       "    <tr>\n",
       "      <th>0</th>\n",
       "      <td>1</td>\n",
       "      <td>q-dev-s3q44053</td>\n",
       "      <td>Over How Many Laps Is The Indianapolis 500 Con...</td>\n",
       "      <td>{'entity_1': 'The Indianapolis 500', 'entity_2...</td>\n",
       "      <td>[0, 0, 0, 0, 0, 1, 2, 2, 0]</td>\n",
       "    </tr>\n",
       "    <tr>\n",
       "      <th>1</th>\n",
       "      <td>2</td>\n",
       "      <td>s-train-57324e68b9d445190005ea13</td>\n",
       "      <td>When did women join the Protestant ministry?</td>\n",
       "      <td>{'entity_1': 'Protestant', 'entity_2': '', 'en...</td>\n",
       "      <td>[0, 0, 0, 0, 0, 1, 0]</td>\n",
       "    </tr>\n",
       "    <tr>\n",
       "      <th>2</th>\n",
       "      <td>3</td>\n",
       "      <td>s-dev-572a1ba46aef051400155292</td>\n",
       "      <td>What can it sometimes take up to 14 years to g...</td>\n",
       "      <td>{'entity_1': '14 years', 'entity_2': '', 'enti...</td>\n",
       "      <td>[0, 0, 0, 0, 0, 0, 0, 1, 2, 0, 0, 0, 0, 0, 0]</td>\n",
       "    </tr>\n",
       "    <tr>\n",
       "      <th>3</th>\n",
       "      <td>4</td>\n",
       "      <td>s-train-56f85519a6d7ea1400e17594</td>\n",
       "      <td>What was also pushed for by result of sarmatism?</td>\n",
       "      <td>{'entity_1': 'sarmatism', 'entity_2': '', 'ent...</td>\n",
       "      <td>[0, 0, 0, 0, 0, 0, 0, 0, 1]</td>\n",
       "    </tr>\n",
       "    <tr>\n",
       "      <th>4</th>\n",
       "      <td>5</td>\n",
       "      <td>q-train-s3q25163</td>\n",
       "      <td>Who invented dynamite</td>\n",
       "      <td>{'entity_1': 'dynamite', 'entity_2': '', 'enti...</td>\n",
       "      <td>[0, 0, 1]</td>\n",
       "    </tr>\n",
       "  </tbody>\n",
       "</table>\n",
       "</div>"
      ],
      "text/plain": [
       "   id                               uid  \\\n",
       "0   1                    q-dev-s3q44053   \n",
       "1   2  s-train-57324e68b9d445190005ea13   \n",
       "2   3    s-dev-572a1ba46aef051400155292   \n",
       "3   4  s-train-56f85519a6d7ea1400e17594   \n",
       "4   5                  q-train-s3q25163   \n",
       "\n",
       "                                            question  \\\n",
       "0  Over How Many Laps Is The Indianapolis 500 Con...   \n",
       "1       When did women join the Protestant ministry?   \n",
       "2  What can it sometimes take up to 14 years to g...   \n",
       "3   What was also pushed for by result of sarmatism?   \n",
       "4                              Who invented dynamite   \n",
       "\n",
       "                                            entities  \\\n",
       "0  {'entity_1': 'The Indianapolis 500', 'entity_2...   \n",
       "1  {'entity_1': 'Protestant', 'entity_2': '', 'en...   \n",
       "2  {'entity_1': '14 years', 'entity_2': '', 'enti...   \n",
       "3  {'entity_1': 'sarmatism', 'entity_2': '', 'ent...   \n",
       "4  {'entity_1': 'dynamite', 'entity_2': '', 'enti...   \n",
       "\n",
       "                                        bio_tags  \n",
       "0                    [0, 0, 0, 0, 0, 1, 2, 2, 0]  \n",
       "1                          [0, 0, 0, 0, 0, 1, 0]  \n",
       "2  [0, 0, 0, 0, 0, 0, 0, 1, 2, 0, 0, 0, 0, 0, 0]  \n",
       "3                    [0, 0, 0, 0, 0, 0, 0, 0, 1]  \n",
       "4                                      [0, 0, 1]  "
      ]
     },
     "execution_count": 38,
     "metadata": {},
     "output_type": "execute_result"
    }
   ],
   "source": [
    "df.head()"
   ]
  },
  {
   "cell_type": "code",
   "execution_count": 39,
   "id": "7f7c2671-ed36-478a-bacc-3e7ac79dcecb",
   "metadata": {},
   "outputs": [],
   "source": [
    "\n",
    "df.index = df.index + 1\n",
    "df['id'] = df.index\n"
   ]
  },
  {
   "cell_type": "code",
   "execution_count": 40,
   "id": "eed3b582-e5ba-4a4c-84cb-405acc0eaf44",
   "metadata": {},
   "outputs": [
    {
     "data": {
      "text/html": [
       "<div>\n",
       "<style scoped>\n",
       "    .dataframe tbody tr th:only-of-type {\n",
       "        vertical-align: middle;\n",
       "    }\n",
       "\n",
       "    .dataframe tbody tr th {\n",
       "        vertical-align: top;\n",
       "    }\n",
       "\n",
       "    .dataframe thead th {\n",
       "        text-align: right;\n",
       "    }\n",
       "</style>\n",
       "<table border=\"1\" class=\"dataframe\">\n",
       "  <thead>\n",
       "    <tr style=\"text-align: right;\">\n",
       "      <th></th>\n",
       "      <th>id</th>\n",
       "      <th>uid</th>\n",
       "      <th>question</th>\n",
       "      <th>entities</th>\n",
       "      <th>bio_tags</th>\n",
       "    </tr>\n",
       "  </thead>\n",
       "  <tbody>\n",
       "    <tr>\n",
       "      <th>1</th>\n",
       "      <td>1</td>\n",
       "      <td>q-dev-s3q44053</td>\n",
       "      <td>Over How Many Laps Is The Indianapolis 500 Con...</td>\n",
       "      <td>{'entity_1': 'The Indianapolis 500', 'entity_2...</td>\n",
       "      <td>[0, 0, 0, 0, 0, 1, 2, 2, 0]</td>\n",
       "    </tr>\n",
       "    <tr>\n",
       "      <th>2</th>\n",
       "      <td>2</td>\n",
       "      <td>s-train-57324e68b9d445190005ea13</td>\n",
       "      <td>When did women join the Protestant ministry?</td>\n",
       "      <td>{'entity_1': 'Protestant', 'entity_2': '', 'en...</td>\n",
       "      <td>[0, 0, 0, 0, 0, 1, 0]</td>\n",
       "    </tr>\n",
       "    <tr>\n",
       "      <th>3</th>\n",
       "      <td>3</td>\n",
       "      <td>s-dev-572a1ba46aef051400155292</td>\n",
       "      <td>What can it sometimes take up to 14 years to g...</td>\n",
       "      <td>{'entity_1': '14 years', 'entity_2': '', 'enti...</td>\n",
       "      <td>[0, 0, 0, 0, 0, 0, 0, 1, 2, 0, 0, 0, 0, 0, 0]</td>\n",
       "    </tr>\n",
       "    <tr>\n",
       "      <th>4</th>\n",
       "      <td>4</td>\n",
       "      <td>s-train-56f85519a6d7ea1400e17594</td>\n",
       "      <td>What was also pushed for by result of sarmatism?</td>\n",
       "      <td>{'entity_1': 'sarmatism', 'entity_2': '', 'ent...</td>\n",
       "      <td>[0, 0, 0, 0, 0, 0, 0, 0, 1]</td>\n",
       "    </tr>\n",
       "    <tr>\n",
       "      <th>5</th>\n",
       "      <td>5</td>\n",
       "      <td>q-train-s3q25163</td>\n",
       "      <td>Who invented dynamite</td>\n",
       "      <td>{'entity_1': 'dynamite', 'entity_2': '', 'enti...</td>\n",
       "      <td>[0, 0, 1]</td>\n",
       "    </tr>\n",
       "  </tbody>\n",
       "</table>\n",
       "</div>"
      ],
      "text/plain": [
       "   id                               uid  \\\n",
       "1   1                    q-dev-s3q44053   \n",
       "2   2  s-train-57324e68b9d445190005ea13   \n",
       "3   3    s-dev-572a1ba46aef051400155292   \n",
       "4   4  s-train-56f85519a6d7ea1400e17594   \n",
       "5   5                  q-train-s3q25163   \n",
       "\n",
       "                                            question  \\\n",
       "1  Over How Many Laps Is The Indianapolis 500 Con...   \n",
       "2       When did women join the Protestant ministry?   \n",
       "3  What can it sometimes take up to 14 years to g...   \n",
       "4   What was also pushed for by result of sarmatism?   \n",
       "5                              Who invented dynamite   \n",
       "\n",
       "                                            entities  \\\n",
       "1  {'entity_1': 'The Indianapolis 500', 'entity_2...   \n",
       "2  {'entity_1': 'Protestant', 'entity_2': '', 'en...   \n",
       "3  {'entity_1': '14 years', 'entity_2': '', 'enti...   \n",
       "4  {'entity_1': 'sarmatism', 'entity_2': '', 'ent...   \n",
       "5  {'entity_1': 'dynamite', 'entity_2': '', 'enti...   \n",
       "\n",
       "                                        bio_tags  \n",
       "1                    [0, 0, 0, 0, 0, 1, 2, 2, 0]  \n",
       "2                          [0, 0, 0, 0, 0, 1, 0]  \n",
       "3  [0, 0, 0, 0, 0, 0, 0, 1, 2, 0, 0, 0, 0, 0, 0]  \n",
       "4                    [0, 0, 0, 0, 0, 0, 0, 0, 1]  \n",
       "5                                      [0, 0, 1]  "
      ]
     },
     "execution_count": 40,
     "metadata": {},
     "output_type": "execute_result"
    }
   ],
   "source": [
    "df.head()"
   ]
  },
  {
   "cell_type": "code",
   "execution_count": 41,
   "id": "3cbb9f1d-fc21-4407-8065-d016ffef0db6",
   "metadata": {},
   "outputs": [],
   "source": [
    "df.to_json(\"new_3000_edit.json\", orient='records')"
   ]
  },
  {
   "cell_type": "code",
   "execution_count": null,
   "id": "1ca3d6c3-51fe-423c-b957-609358fb758d",
   "metadata": {},
   "outputs": [],
   "source": []
  }
 ],
 "metadata": {
  "kernelspec": {
   "display_name": "Python 3 (ipykernel)",
   "language": "python",
   "name": "python3"
  },
  "language_info": {
   "codemirror_mode": {
    "name": "ipython",
    "version": 3
   },
   "file_extension": ".py",
   "mimetype": "text/x-python",
   "name": "python",
   "nbconvert_exporter": "python",
   "pygments_lexer": "ipython3",
   "version": "3.9.12"
  }
 },
 "nbformat": 4,
 "nbformat_minor": 5
}
