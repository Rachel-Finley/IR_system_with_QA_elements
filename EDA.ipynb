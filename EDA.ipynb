{
 "cells": [
  {
   "cell_type": "markdown",
   "id": "c7a93e52-996b-4dbf-a382-41c8fc1da799",
   "metadata": {},
   "source": [
    "# Made in collaboration with Chu Fang, Xiangdi Lin, Rachel Finley, and Dawid Cichoki"
   ]
  },
  {
   "cell_type": "code",
   "execution_count": 1,
   "id": "a4f819c4-24a1-470a-b948-a5e97b088618",
   "metadata": {},
   "outputs": [],
   "source": [
    "from transformers import BertConfig, BertTokenizerFast, BertForTokenClassification\n",
    "import json\n",
    "import os\n",
    "import torch\n",
    "from tqdm import tqdm\n",
    "import random\n",
    "import numpy as np\n",
    "from tokenizers import Tokenizer\n",
    "from torch.optim.lr_scheduler import LinearLR\n",
    "import pandas as pd"
   ]
  },
  {
   "cell_type": "code",
   "execution_count": 2,
   "id": "9ab975a8-973c-4051-a3fb-13a251384b6a",
   "metadata": {},
   "outputs": [],
   "source": [
    "from sklearn.metrics import accuracy_score, f1_score, hamming_loss\n",
    "import matplotlib.pyplot as plt\n",
    "import seaborn as sns\n"
   ]
  },
  {
   "cell_type": "code",
   "execution_count": 3,
   "id": "78f8b52d-235c-49ec-b6f4-e8ec5335d2b1",
   "metadata": {
    "tags": []
   },
   "outputs": [],
   "source": [
    "def parse_vectors(labels, outputs, parsed):\n",
    "    \n",
    "    #convert 2D tensor into list of vectors without padding\n",
    "    ground_truth = [x[x!=-100] for x in labels]\n",
    "    \n",
    "    preds = []\n",
    "    for idx, vec in enumerate(ground_truth):\n",
    "        #for each of ground truth vectors we take the (unpadded) len to properly truncate the output vector\n",
    "        unpadded_length = len(vec)\n",
    "        #truncate each output vector in 2D tensor and add it to result list\n",
    "        preds.append(outputs[idx][:unpadded_length])\n",
    "        \n",
    "    parsed['ground_truth'].extend(ground_truth)\n",
    "    parsed['predictions'].extend(preds)\n",
    "    \n",
    "def binarize_labels(data):\n",
    "    for vec in data:\n",
    "        vec['bin_tags'] = [x if x !=2 else 1 for x in vec['bio_tags']] "
   ]
  },
  {
   "cell_type": "code",
   "execution_count": 4,
   "id": "4c433261-85e2-482d-b793-1f03b2531f8c",
   "metadata": {},
   "outputs": [],
   "source": [
    "### JSON functions\n",
    "def save_json(json_file, dst, sub_folder = None):\n",
    "    if sub_folder:\n",
    "        os.makedirs(subfolder, exist_ok = True)\n",
    "        dst = subfolder + dst\n",
    "    with open(dst, 'w', encoding = 'utf-8') as file:\n",
    "        file.write(json.dumps(json_file))\n",
    "\n",
    "def load_json(src):\n",
    "    with open(src, encoding= 'utf-8') as file:\n",
    "        return json.load(file)\n",
    "\n",
    "### BERT Tokenizer function\n",
    "def tokenize(questions, tokenizer, max_length = 100, binary=False):\n",
    "    output = []\n",
    "    \n",
    "    split_questions = [x['question'].split() for x in questions]\n",
    "    tokenized_questions = tokenizer(split_questions, is_split_into_words=True,  padding='max_length', max_length = max_length, truncation='longest_first')\n",
    "    \n",
    "    for idx, question in enumerate(questions):\n",
    "        prev = None\n",
    "        labels = []\n",
    "        \n",
    "        word_ids = tokenized_questions.word_ids(batch_index=idx)\n",
    "        \n",
    "        for idy, word_id in enumerate(word_ids):\n",
    "            if word_id == None:\n",
    "                labels.append(-100)\n",
    "            else:\n",
    "                if binary:\n",
    "                    labels.append(question['bin_tags'][word_id])\n",
    "                else:\n",
    "                    labels.append(question['bio_tags'][word_id])\n",
    "\n",
    "        output.append({\n",
    "            'input_ids': torch.tensor(tokenized_questions.input_ids[idx], dtype=torch.int64),\n",
    "            'attention_mask':  torch.tensor(tokenized_questions.attention_mask[idx], dtype=torch.bool),\n",
    "            'labels': torch.tensor(labels, dtype=torch.int64),\n",
    "        })\n",
    "        \n",
    "    return output"
   ]
  },
  {
   "cell_type": "code",
   "execution_count": 5,
   "id": "ade1c075-572b-4248-8f12-e48906ea773b",
   "metadata": {},
   "outputs": [],
   "source": [
    "### Model settings\n",
    "lr = 1e-6\n",
    "batch_size = 32\n",
    "num_epochs = 1\n",
    "max_length = 100\n",
    "model_name = \"bert_ner\"\n",
    "\n",
    "### Load in edited JSON Files\n",
    "data = load_json(\"final_set.json\")\n",
    "binarize_labels(data)"
   ]
  },
  {
   "cell_type": "code",
   "execution_count": 6,
   "id": "03b9d10a-a4b2-42f4-b067-2ee0243b9c12",
   "metadata": {},
   "outputs": [],
   "source": [
    "### Tokenize the data with pretrained SentencePiece tokenizer\n",
    "tokenizer = BertTokenizerFast.from_pretrained(\"bert-base-uncased\")\n",
    "tokenized = tokenize(data, tokenizer, max_length)"
   ]
  },
  {
   "cell_type": "code",
   "execution_count": 7,
   "id": "237a3290-892d-47c7-8e19-81a262551924",
   "metadata": {},
   "outputs": [],
   "source": [
    "### Split data into eval set\n",
    "encoded_test = tokenized[3500:]\n",
    "encoded_train = tokenized[:3500]"
   ]
  },
  {
   "cell_type": "code",
   "execution_count": 9,
   "id": "b46a8c4e-4e47-4dde-8ada-766370676e08",
   "metadata": {},
   "outputs": [
    {
     "data": {
      "application/vnd.jupyter.widget-view+json": {
       "model_id": "a4628e8c8e414bbab1e84f4177ca7be3",
       "version_major": 2,
       "version_minor": 0
      },
      "text/plain": [
       "Downloading:   0%|          | 0.00/440M [00:00<?, ?B/s]"
      ]
     },
     "metadata": {},
     "output_type": "display_data"
    },
    {
     "name": "stderr",
     "output_type": "stream",
     "text": [
      "C:\\Users\\blake\\anaconda3\\lib\\site-packages\\huggingface_hub\\file_download.py:123: UserWarning: `huggingface_hub` cache-system uses symlinks by default to efficiently store duplicated files but your machine does not support them in C:\\Users\\blake\\.cache\\huggingface\\hub. Caching files will still work but in a degraded version that might require more space on your disk. This warning can be disabled by setting the `HF_HUB_DISABLE_SYMLINKS_WARNING` environment variable. For more details, see https://huggingface.co/docs/huggingface_hub/how-to-cache#limitations.\n",
      "To support symlinks on Windows, you either need to activate Developer Mode or to run Python as an administrator. In order to see activate developer mode, see this article: https://docs.microsoft.com/en-us/windows/apps/get-started/enable-your-device-for-development\n",
      "  warnings.warn(message)\n",
      "Some weights of the model checkpoint at bert-base-uncased were not used when initializing BertForTokenClassification: ['cls.predictions.transform.dense.weight', 'cls.predictions.decoder.weight', 'cls.predictions.transform.LayerNorm.weight', 'cls.predictions.transform.dense.bias', 'cls.seq_relationship.bias', 'cls.seq_relationship.weight', 'cls.predictions.bias', 'cls.predictions.transform.LayerNorm.bias']\n",
      "- This IS expected if you are initializing BertForTokenClassification from the checkpoint of a model trained on another task or with another architecture (e.g. initializing a BertForSequenceClassification model from a BertForPreTraining model).\n",
      "- This IS NOT expected if you are initializing BertForTokenClassification from the checkpoint of a model that you expect to be exactly identical (initializing a BertForSequenceClassification model from a BertForSequenceClassification model).\n",
      "Some weights of BertForTokenClassification were not initialized from the model checkpoint at bert-base-uncased and are newly initialized: ['classifier.bias', 'classifier.weight']\n",
      "You should probably TRAIN this model on a down-stream task to be able to use it for predictions and inference.\n"
     ]
    }
   ],
   "source": [
    "### DataLoaders help batch the data for faster processing\n",
    "test_data = torch.utils.data.DataLoader(encoded_test, batch_size = batch_size, shuffle = False)\n",
    "train_data = torch.utils.data.DataLoader(encoded_train, batch_size = batch_size, shuffle = True)\n",
    "\n",
    "#### Load the model and optimzer\n",
    "\n",
    "### If you have set up GPU than the code below sets it as execution device, else its CPU\n",
    "device = torch.device(\"cpu\" if not torch.cuda.is_available() else \"cuda\")\n",
    "\n",
    "### Setting up basic bert model with proper max input embeddings\n",
    "## set num labels to 2 to make it binary prediction task\n",
    "config = BertConfig(max_position_embeddings = max_length, num_labels = 2)\n",
    "\n",
    "### Load in our pretrained model with best loss score\n",
    "model = BertForTokenClassification(config).from_pretrained(\"bert-base-uncased\", num_labels=3)\n",
    "optimizer = torch.optim.AdamW(model.parameters(), lr=lr, weight_decay=0.01)\n",
    "model.to(device)\n",
    "\n",
    "results = {}"
   ]
  },
  {
   "cell_type": "code",
   "execution_count": 10,
   "id": "f98be4b8-c05e-49f4-a4e8-f6f78860815a",
   "metadata": {},
   "outputs": [
    {
     "name": "stderr",
     "output_type": "stream",
     "text": [
      "100%|██████████| 110/110 [1:15:50<00:00, 41.37s/it]\n",
      "100%|██████████| 32/32 [04:01<00:00,  7.56s/it]\n"
     ]
    }
   ],
   "source": [
    "results = {}\n",
    "results[model_name] = {'train':{}, 'test':{}}\n",
    "for epoch in range(0, num_epochs):\n",
    "    sum_loss = 0\n",
    "    model.train()\n",
    "    for batch in tqdm(train_data):\n",
    "        labels = batch['labels'].to(device)\n",
    "        input_ids = batch['input_ids'].to(device)\n",
    "        attention_mask = batch[\"attention_mask\"].to(device)\n",
    "        outputs = model(labels = labels, input_ids = input_ids, attention_mask=attention_mask)\n",
    "\n",
    "        loss = outputs.loss\n",
    "        sum_loss += loss.data.detach()\n",
    "\n",
    "        optimizer.zero_grad()\n",
    "    results[model_name]['train'][epoch] = sum_loss.item()/len(train_data)\n",
    "    \n",
    "    test_loss = 0\n",
    "    model.eval()\n",
    "    \n",
    "    parsed_outputs = {'ground_truth':[], 'predictions':[]}\n",
    "    \n",
    "    for batch in tqdm(test_data):\n",
    "        labels = batch['labels'].to(device)\n",
    "        input_ids = batch['input_ids'].to(device)\n",
    "        attention_mask = batch[\"attention_mask\"].to(device)\n",
    "        \n",
    "        with torch.no_grad():\n",
    "            outputs = model(labels = labels, input_ids = input_ids, attention_mask = attention_mask)\n",
    "            \n",
    "            parse_vectors(labels.to('cpu'), outputs.logits.argmax(-1).to('cpu'), parsed_outputs)\n",
    "            \n",
    "        test_loss += outputs.loss.data.detach()\n",
    "    results[model_name]['test'][epoch] = test_loss.item()/len(test_data)\n",
    "    \n",
    "    #model.save_pretrained(f\"{model_name}_{epoch+1}ep/\")\n",
    "save_json(results, model_name + '_NER_accuracy.json')"
   ]
  },
  {
   "cell_type": "code",
   "execution_count": 11,
   "id": "69229f13-fb24-4d9d-a3f2-91786ca70f11",
   "metadata": {},
   "outputs": [
    {
     "data": {
      "text/plain": [
       "{'bert_ner': {'train': {0: 1.2057723999023438},\n",
       "  'test': {0: 1.2281886339187622}}}"
      ]
     },
     "execution_count": 11,
     "metadata": {},
     "output_type": "execute_result"
    }
   ],
   "source": [
    "results"
   ]
  },
  {
   "cell_type": "code",
   "execution_count": 16,
   "id": "514aa686-d025-4b7e-9bc9-0b4eaa41cb2e",
   "metadata": {},
   "outputs": [],
   "source": [
    "def aggregate_errors_with_types(predictions):\n",
    "    gt = predictions['ground_truth']\n",
    "    pred = predictions['predictions']\n",
    "    \n",
    "    errors = {0:{0:0, 1:0, 2:0}, 1:{0:0, 1:0, 2:0}, 2:{0:0, 1:0, 2:0}}\n",
    "    \n",
    "    \n",
    "    for idx, gt_vec in enumerate(gt):\n",
    "        p_vec = pred[idx]\n",
    "        \n",
    "        for idy, gt_val in enumerate(gt_vec):\n",
    "            p_val = p_vec[idy]\n",
    "            \n",
    "            errors[int(gt_val)][int(p_val)] += 1\n",
    "    return errors\n",
    "\n",
    "def aggregate_errors_binary(predictions):\n",
    "    gt = predictions['ground_truth']\n",
    "    pred = predictions['predictions']\n",
    "    \n",
    "    errors = {0:{0:0, 1:0}, 1:{0:0, 1:0}}\n",
    "    \n",
    "    \n",
    "    for idx, gt_vec in enumerate(gt):\n",
    "        p_vec = pred[idx]\n",
    "        \n",
    "        for idy, gt_val in enumerate(gt_vec):\n",
    "            p_val = p_vec[idy]\n",
    "            \n",
    "            x = 0 if gt_val == 0 else 1\n",
    "            y = 0 if p_val == 0 else 1\n",
    "            \n",
    "            errors[x][y] += 1\n",
    "    return errors\n",
    "\n",
    "def calculate_binary_confusion_matrix(errors):\n",
    "    confusion_matrix = {}\n",
    "    \n",
    "    # true positive\n",
    "    tp = errors[1][1]\n",
    "    # true negative\n",
    "    tn = errors[0][0]\n",
    "    # false positive\n",
    "    fp = errors[0][1]\n",
    "    # false negative\n",
    "    fn = errors[1][0]\n",
    "    #true positive rate\n",
    "    tpr = tp/(tp+fn)\n",
    "    #true negative rate\n",
    "    tnr = tn/(tn+fp)\n",
    "    #precision\n",
    "    precision = tp/(tp+fp)\n",
    "    \n",
    "    confusion_matrix['true_negative_rate'] = tnr\n",
    "    confusion_matrix['true_positive_rate'] = tpr\n",
    "    confusion_matrix['accuracy'] = (tp+tn)/(tp+tn+fp+fn)\n",
    "    confusion_matrix['balanced_accuracy'] = (tpr + tnr)/2\n",
    "    confusion_matrix['false_discovery_rate'] = 1-precision\n",
    "    confusion_matrix['f1'] = 2*precision*tpr/(precision+tpr)\n",
    "    \n",
    "    return confusion_matrix"
   ]
  },
  {
   "cell_type": "code",
   "execution_count": 20,
   "id": "775a0b42-36e8-42f8-b88c-c732e0ca9b1c",
   "metadata": {},
   "outputs": [],
   "source": [
    "errors = aggregate_errors_with_types(parsed_outputs)\n",
    "errors_bin = aggregate_errors_binary(parsed_outputs)"
   ]
  },
  {
   "cell_type": "code",
   "execution_count": 18,
   "id": "72412dff-5f4e-4fe9-ad43-39e4f25a7107",
   "metadata": {},
   "outputs": [
    {
     "data": {
      "text/plain": [
       "[Text(0.5, 15.0, 'Pred'), Text(33.0, 0.5, 'True')]"
      ]
     },
     "execution_count": 18,
     "metadata": {},
     "output_type": "execute_result"
    },
    {
     "data": {
      "image/png": "[encoded data removed]",
      "text/plain": [
       "<Figure size 432x288 with 2 Axes>"
      ]
     },
     "metadata": {
      "needs_background": "light"
     },
     "output_type": "display_data"
    }
   ],
   "source": [
    "ax = sns.heatmap(pd.DataFrame(errors), annot=True, fmt=\".1f\")\n",
    "ax.set(xlabel=\"Pred\", ylabel=\"True\")"
   ]
  },
  {
   "cell_type": "code",
   "execution_count": 81,
   "id": "efcf1b7c-e8ed-42c5-99eb-552b3773fb24",
   "metadata": {},
   "outputs": [
    {
     "data": {
      "text/plain": [
       "[Text(0.5, 15.0, 'Pred'), Text(33.0, 0.5, 'True')]"
      ]
     },
     "execution_count": 81,
     "metadata": {},
     "output_type": "execute_result"
    },
    {
     "data": {
      "image/png": "[encoded data removed]",
      "text/plain": [
       "<Figure size 432x288 with 2 Axes>"
      ]
     },
     "metadata": {
      "needs_background": "light"
     },
     "output_type": "display_data"
    }
   ],
   "source": [
    "ax = sns.heatmap(pd.DataFrame(errors_bin), annot=True, fmt=\".1f\")\n",
    "ax.set(xlabel=\"Pred\", ylabel=\"True\")"
   ]
  },
  {
   "cell_type": "code",
   "execution_count": 82,
   "id": "e1dfeaa9-96c6-45d8-b4c5-f4db22e46ea3",
   "metadata": {},
   "outputs": [],
   "source": [
    "### Question: What if we would only train in binary fashion? Would that help our binary classification accuracy?"
   ]
  },
  {
   "cell_type": "code",
   "execution_count": 95,
   "id": "bd76ee14-a143-47f9-87e8-94349d2ef688",
   "metadata": {},
   "outputs": [
    {
     "name": "stderr",
     "output_type": "stream",
     "text": [
      "Some weights of the model checkpoint at bert-base-uncased were not used when initializing BertForTokenClassification: ['cls.predictions.transform.dense.weight', 'cls.predictions.decoder.weight', 'cls.seq_relationship.bias', 'cls.seq_relationship.weight', 'cls.predictions.bias', 'cls.predictions.transform.LayerNorm.weight', 'cls.predictions.transform.LayerNorm.bias', 'cls.predictions.transform.dense.bias']\n",
      "- This IS expected if you are initializing BertForTokenClassification from the checkpoint of a model trained on another task or with another architecture (e.g. initializing a BertForSequenceClassification model from a BertForPreTraining model).\n",
      "- This IS NOT expected if you are initializing BertForTokenClassification from the checkpoint of a model that you expect to be exactly identical (initializing a BertForSequenceClassification model from a BertForSequenceClassification model).\n",
      "Some weights of BertForTokenClassification were not initialized from the model checkpoint at bert-base-uncased and are newly initialized: ['classifier.weight', 'classifier.bias']\n",
      "You should probably TRAIN this model on a down-stream task to be able to use it for predictions and inference.\n",
      "100%|██████████| 63/63 [00:01<00:00, 42.54it/s]\n",
      "100%|██████████| 10/10 [00:00<00:00, 46.36it/s]\n"
     ]
    }
   ],
   "source": [
    "tokenized_bin = tokenize(data, tokenizer, max_length, binary = True)\n",
    "### Split data into eval set\n",
    "encoded_test = tokenized_bin[2000:]\n",
    "encoded_train = tokenized_bin[:2000]\n",
    "### DataLoaders help batch the data for faster processing\n",
    "test_data = torch.utils.data.DataLoader(encoded_test, batch_size = batch_size, shuffle = False)\n",
    "train_data = torch.utils.data.DataLoader(encoded_train, batch_size = batch_size, shuffle = True)\n",
    "config = BertConfig(max_position_embeddings = max_length, num_labels = 2)\n",
    "### Load in our pretrained model with best loss score\n",
    "model = BertForTokenClassification(config).from_pretrained(\"bert-base-uncased\", num_labels=2, local_files_only = True)\n",
    "optimizer = torch.optim.AdamW(model.parameters(), lr=lr, weight_decay=0.01)\n",
    "model.to(device)\n",
    "\n",
    "for epoch in range(0, num_epochs):\n",
    "    sum_loss = 0\n",
    "    model.train()\n",
    "    for batch in tqdm(train_data):\n",
    "        labels = batch['labels'].to(device)\n",
    "        input_ids = batch['input_ids'].to(device)\n",
    "        attention_mask = batch[\"attention_mask\"].to(device)\n",
    "        outputs = model(labels = labels, input_ids = input_ids, attention_mask=attention_mask)\n",
    "        loss = outputs.loss\n",
    "        sum_loss += loss.data.detach()\n",
    "        optimizer.zero_grad()\n",
    "    \n",
    "    test_loss = 0\n",
    "    model.eval()\n",
    "    parsed_outputs = {'ground_truth':[], 'predictions':[]}\n",
    "    \n",
    "    for batch in tqdm(test_data):\n",
    "        labels = batch['labels'].to(device)\n",
    "        input_ids = batch['input_ids'].to(device)\n",
    "        attention_mask = batch[\"attention_mask\"].to(device)\n",
    "        with torch.no_grad():\n",
    "            outputs = model(labels = labels, input_ids = input_ids, attention_mask = attention_mask)\n",
    "            parse_vectors(labels.to('cpu'), outputs.logits.argmax(-1).to('cpu'), parsed_outputs)\n",
    "        test_loss += outputs.loss.data.detach()\n"
   ]
  },
  {
   "cell_type": "code",
   "execution_count": 97,
   "id": "4f1617ee-eb20-41c9-aa68-48ad43a7f923",
   "metadata": {},
   "outputs": [],
   "source": [
    "errors_bin_model = aggregate_errors_binary(parsed_outputs)"
   ]
  },
  {
   "cell_type": "code",
   "execution_count": 98,
   "id": "d7e594a8-55ab-4edc-85d1-16cecf1437f8",
   "metadata": {},
   "outputs": [
    {
     "data": {
      "text/plain": [
       "[Text(0.5, 15.0, 'Pred'), Text(33.0, 0.5, 'True')]"
      ]
     },
     "execution_count": 98,
     "metadata": {},
     "output_type": "execute_result"
    },
    {
     "data": {
      "image/png": "[encoded data removed]",
      "text/plain": [
       "<Figure size 432x288 with 2 Axes>"
      ]
     },
     "metadata": {
      "needs_background": "light"
     },
     "output_type": "display_data"
    }
   ],
   "source": [
    "ax = sns.heatmap(pd.DataFrame(errors_bin_model), annot=True, fmt=\".1f\")\n",
    "ax.set(xlabel=\"Pred\", ylabel=\"True\")"
   ]
  },
  {
   "cell_type": "code",
   "execution_count": 21,
   "id": "a9c9d255-cd2b-4ce8-b37f-53f7a1da450b",
   "metadata": {},
   "outputs": [],
   "source": [
    "confusion_matrix = {}\n",
    "confusion_matrix['non_bin_model'] = calculate_binary_confusion_matrix(errors_bin)\n",
    "#confusion_matrix['bin_model'] = calculate_binary_confusion_matrix(errors_bin_model)\n",
    "\n",
    "df = pd.DataFrame(confusion_matrix)"
   ]
  },
  {
   "cell_type": "code",
   "execution_count": 22,
   "id": "2351cdee-b4ee-4e9b-b8e3-7bef6e698deb",
   "metadata": {},
   "outputs": [
    {
     "data": {
      "text/html": [
       "<div>\n",
       "<style scoped>\n",
       "    .dataframe tbody tr th:only-of-type {\n",
       "        vertical-align: middle;\n",
       "    }\n",
       "\n",
       "    .dataframe tbody tr th {\n",
       "        vertical-align: top;\n",
       "    }\n",
       "\n",
       "    .dataframe thead th {\n",
       "        text-align: right;\n",
       "    }\n",
       "</style>\n",
       "<table border=\"1\" class=\"dataframe\">\n",
       "  <thead>\n",
       "    <tr style=\"text-align: right;\">\n",
       "      <th></th>\n",
       "      <th>non_bin_model</th>\n",
       "    </tr>\n",
       "  </thead>\n",
       "  <tbody>\n",
       "    <tr>\n",
       "      <th>accuracy</th>\n",
       "      <td>0.222</td>\n",
       "    </tr>\n",
       "    <tr>\n",
       "      <th>balanced_accuracy</th>\n",
       "      <td>0.487</td>\n",
       "    </tr>\n",
       "    <tr>\n",
       "      <th>f1</th>\n",
       "      <td>0.219</td>\n",
       "    </tr>\n",
       "    <tr>\n",
       "      <th>false_discovery_rate</th>\n",
       "      <td>0.874</td>\n",
       "    </tr>\n",
       "    <tr>\n",
       "      <th>true_negative_rate</th>\n",
       "      <td>0.130</td>\n",
       "    </tr>\n",
       "    <tr>\n",
       "      <th>true_positive_rate</th>\n",
       "      <td>0.844</td>\n",
       "    </tr>\n",
       "  </tbody>\n",
       "</table>\n",
       "</div>"
      ],
      "text/plain": [
       "                      non_bin_model\n",
       "accuracy                      0.222\n",
       "balanced_accuracy             0.487\n",
       "f1                            0.219\n",
       "false_discovery_rate          0.874\n",
       "true_negative_rate            0.130\n",
       "true_positive_rate            0.844"
      ]
     },
     "execution_count": 22,
     "metadata": {},
     "output_type": "execute_result"
    }
   ],
   "source": [
    "df.round(3)"
   ]
  }
 ],
 "metadata": {
  "kernelspec": {
   "display_name": "Python 3 (ipykernel)",
   "language": "python",
   "name": "python3"
  },
  "language_info": {
   "codemirror_mode": {
    "name": "ipython",
    "version": 3
   },
   "file_extension": ".py",
   "mimetype": "text/x-python",
   "name": "python",
   "nbconvert_exporter": "python",
   "pygments_lexer": "ipython3",
   "version": "3.9.12"
  }
 },
 "nbformat": 4,
 "nbformat_minor": 5
}
